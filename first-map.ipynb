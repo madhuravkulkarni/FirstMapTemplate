{
  "cells": [
    {
      "cell_type": "markdown",
      "id": "4681aaaa-53e1-4010-8fb0-39d1b85c34a8",
      "metadata": {},
      "source": [
        "# Add a map to your website\n",
        "\n",
        "Get started with maps\n",
        "\n",
        "Nate Quarderer  \n",
        "Elsa Culler  \n",
        "2024-03-28\n",
        "\n",
        "## Get started with map-making using open-sources tools\n",
        "\n",
        "### Finding locations and boundaries\n",
        "\n",
        "[Open Street Map (OSM)](https://www.openstreetmap.org/) is an\n",
        "open-source, editable map of the world – a little like a wiki for\n",
        "places. They also provide a service for looking up locations using text,\n",
        "which we’ll be using in this activity.\n",
        "\n",
        "### Mapping libraries\n",
        "\n",
        "You’ll need to start by importing the following libraries:"
      ]
    },
    {
      "cell_type": "code",
      "execution_count": 2,
      "id": "cd830589",
      "metadata": {},
      "outputs": [],
      "source": [
        "# Work with vector data\n",
        "import geopandas as gpd\n",
        "\n",
        "# Save maps and plots to files\n",
        "import holoviews as hv\n",
        "# Create interactive maps and plots\n",
        "import hvplot.pandas\n",
        "\n",
        "# Search for locations by name - this might take a moment\n",
        "from osmnx import features as osm"
      ]
    },
    {
      "cell_type": "markdown",
      "id": "f9505692-f5e7-4163-9ba7-7a08773dc238",
      "metadata": {},
      "source": [
        "### Search for a point of interest\n",
        "\n",
        "You can use the `pyrosm` package to download and search for spatial\n",
        "vector data in your area, or anywhere around the world.\n",
        "\n",
        "In this case, we’re looking for the location of the Haskell Indian Nations University campus in Lawrence, KS. The address in here,\n",
        "`'Haskell Indian Nations University, Lawrence, KS, United States'`, does\n",
        "not have to be complete or exact, but it should be specific enough to\n",
        "narrow it down. We are also specifying that we want it to be tagges as a\n",
        "`'amentity'` type, specifically a `'university'` You might have to try a\n",
        "couple different searches with different addresses and/or tags to get\n",
        "the address you want, just like if you are using a map website or app."
      ]
    },
    {
      "cell_type": "code",
      "execution_count": 3,
      "id": "c4a50a59",
      "metadata": {},
      "outputs": [
        {
          "data": {
            "text/html": [
              "<div>\n",
              "<style scoped>\n",
              "    .dataframe tbody tr th:only-of-type {\n",
              "        vertical-align: middle;\n",
              "    }\n",
              "\n",
              "    .dataframe tbody tr th {\n",
              "        vertical-align: top;\n",
              "    }\n",
              "\n",
              "    .dataframe thead th {\n",
              "        text-align: right;\n",
              "    }\n",
              "</style>\n",
              "<table border=\"1\" class=\"dataframe\">\n",
              "  <thead>\n",
              "    <tr style=\"text-align: right;\">\n",
              "      <th></th>\n",
              "      <th></th>\n",
              "      <th>ways</th>\n",
              "      <th>addr:city</th>\n",
              "      <th>addr:housenumber</th>\n",
              "      <th>addr:postcode</th>\n",
              "      <th>addr:street</th>\n",
              "      <th>amenity</th>\n",
              "      <th>boundary</th>\n",
              "      <th>ele</th>\n",
              "      <th>gnis:feature_id</th>\n",
              "      <th>heritage</th>\n",
              "      <th>...</th>\n",
              "      <th>nrhp:criteria</th>\n",
              "      <th>nrhp:inscription_date</th>\n",
              "      <th>nrhp:nhl</th>\n",
              "      <th>protection_title</th>\n",
              "      <th>ref:nrhp</th>\n",
              "      <th>type</th>\n",
              "      <th>wikidata</th>\n",
              "      <th>wikipedia</th>\n",
              "      <th>nodes</th>\n",
              "      <th>geometry</th>\n",
              "    </tr>\n",
              "    <tr>\n",
              "      <th>element_type</th>\n",
              "      <th>osmid</th>\n",
              "      <th></th>\n",
              "      <th></th>\n",
              "      <th></th>\n",
              "      <th></th>\n",
              "      <th></th>\n",
              "      <th></th>\n",
              "      <th></th>\n",
              "      <th></th>\n",
              "      <th></th>\n",
              "      <th></th>\n",
              "      <th></th>\n",
              "      <th></th>\n",
              "      <th></th>\n",
              "      <th></th>\n",
              "      <th></th>\n",
              "      <th></th>\n",
              "      <th></th>\n",
              "      <th></th>\n",
              "      <th></th>\n",
              "      <th></th>\n",
              "      <th></th>\n",
              "    </tr>\n",
              "  </thead>\n",
              "  <tbody>\n",
              "    <tr>\n",
              "      <th>relation</th>\n",
              "      <th>2330930</th>\n",
              "      <td>[172603550, 174576051, 174576058, 171002778, 1...</td>\n",
              "      <td>Lawrence</td>\n",
              "      <td>2300</td>\n",
              "      <td>66046</td>\n",
              "      <td>Barker Avenue</td>\n",
              "      <td>university</td>\n",
              "      <td>protected_area</td>\n",
              "      <td>268</td>\n",
              "      <td>479134</td>\n",
              "      <td>2</td>\n",
              "      <td>...</td>\n",
              "      <td>(A)</td>\n",
              "      <td>July 4, 1961</td>\n",
              "      <td>yes</td>\n",
              "      <td>protected_site</td>\n",
              "      <td>66000342</td>\n",
              "      <td>multipolygon</td>\n",
              "      <td>Q845332</td>\n",
              "      <td>en:Haskell Indian Nations University</td>\n",
              "      <td>[[[391518501, 1834666320, 1834666332, 12070968...</td>\n",
              "      <td>POLYGON ((-95.23831 38.93552, -95.23817 38.935...</td>\n",
              "    </tr>\n",
              "  </tbody>\n",
              "</table>\n",
              "<p>1 rows × 22 columns</p>\n",
              "</div>"
            ],
            "text/plain": [
              "                                                                   ways  \\\n",
              "element_type osmid                                                        \n",
              "relation     2330930  [172603550, 174576051, 174576058, 171002778, 1...   \n",
              "\n",
              "                     addr:city addr:housenumber addr:postcode    addr:street  \\\n",
              "element_type osmid                                                             \n",
              "relation     2330930  Lawrence             2300         66046  Barker Avenue   \n",
              "\n",
              "                         amenity        boundary  ele gnis:feature_id  \\\n",
              "element_type osmid                                                      \n",
              "relation     2330930  university  protected_area  268          479134   \n",
              "\n",
              "                     heritage  ... nrhp:criteria nrhp:inscription_date  \\\n",
              "element_type osmid             ...                                       \n",
              "relation     2330930        2  ...           (A)          July 4, 1961   \n",
              "\n",
              "                     nrhp:nhl protection_title  ref:nrhp          type  \\\n",
              "element_type osmid                                                       \n",
              "relation     2330930      yes   protected_site  66000342  multipolygon   \n",
              "\n",
              "                     wikidata                             wikipedia  \\\n",
              "element_type osmid                                                    \n",
              "relation     2330930  Q845332  en:Haskell Indian Nations University   \n",
              "\n",
              "                                                                  nodes  \\\n",
              "element_type osmid                                                        \n",
              "relation     2330930  [[[391518501, 1834666320, 1834666332, 12070968...   \n",
              "\n",
              "                                                               geometry  \n",
              "element_type osmid                                                       \n",
              "relation     2330930  POLYGON ((-95.23831 38.93552, -95.23817 38.935...  \n",
              "\n",
              "[1 rows x 22 columns]"
            ]
          },
          "execution_count": 3,
          "metadata": {},
          "output_type": "execute_result"
        }
      ],
      "source": [
        "# Search for United Tribes Technical College\n",
        "haskell_gdf = osm.features_from_address(\n",
        "    'Haskell Indian Nations University, Lawrence, KS, United States',\n",
        "    {'amenity': ['university']})\n",
        "haskell_gdf"
      ]
    },
    {
      "cell_type": "code",
      "execution_count": 4,
      "id": "8aa08622",
      "metadata": {},
      "outputs": [
        {
          "data": {
            "text/plain": [
              "<Axes: >"
            ]
          },
          "execution_count": 4,
          "metadata": {},
          "output_type": "execute_result"
        },
        {
          "data": {
            "image/png": "[encoded data removed]",
            "text/plain": [
              "<Figure size 640x480 with 1 Axes>"
            ]
          },
          "metadata": {},
          "output_type": "display_data"
        }
      ],
      "source": [
        "haskell_gdf.plot()"
      ]
    },
    {
      "cell_type": "markdown",
      "id": "eaafd823-c1f1-46f2-96e2-486a405e9ef5",
      "metadata": {},
      "source": [
        "We have a map of the Haskell Campus!\n",
        "\n",
        "### Create an interactive map\n",
        "\n",
        "There are lots of different ways to create maps and plots in Python.\n",
        "Here, we’re going to use a tool called `'hvplot'` and `'geoviews'` to\n",
        "create an interactive map, including the online `'EsriImagery'` tile\n",
        "source basemap."
      ]
    },
    {
      "cell_type": "code",
      "execution_count": 5,
      "id": "8176d4d3",
      "metadata": {},
      "outputs": [
        {
          "name": "stderr",
          "output_type": "stream",
          "text": [
            "/opt/conda/lib/python3.11/site-packages/dask/dataframe/__init__.py:31: FutureWarning: \n",
            "Dask dataframe query planning is disabled because dask-expr is not installed.\n",
            "\n",
            "You can install it with `pip install dask[dataframe]` or `conda install dask`.\n",
            "This will raise in a future version.\n",
            "\n",
            "  warnings.warn(msg, FutureWarning)\n",
            "WARNING:bokeh.core.validation.check:W-1005 (FIXED_SIZING_MODE): 'fixed' sizing mode requires width and height to be set: figure(id='p1043', ...)\n"
          ]
        },
        {
          "data": {},
          "metadata": {},
          "output_type": "display_data"
        },
        {
          "data": {
            "application/vnd.holoviews_exec.v0+json": "",
            "text/html": [
              "<div id='p1099'>\n",
              "  <div id=\"ff4815a0-977c-4db5-997d-46f3e734c9b9\" data-root-id=\"p1099\" style=\"display: contents;\"></div>\n",
              "</div>\n",
              "<script type=\"application/javascript\">(function(root) {\n",
              "  var docs_json = {\"4b563d1e-5992-4e1b-9f08-a0aeaa51a02e\":{\"version\":\"3.3.4\",\"title\":\"Bokeh Application\",\"roots\":[{\"type\":\"object\",\"name\":\"Row\",\"id\":\"p1099\",\"attributes\":{\"name\":\"Row01784\",\"tags\":[\"embedded\"],\"stylesheets\":[\"\\n:host(.pn-loading.pn-arc):before, .pn-loading.pn-arc:before {\\n  background-image: url(\\\"data:image/svg+xml;base64,PHN2ZyB4bWxucz0iaHR0cDovL3d3dy53My5vcmcvMjAwMC9zdmciIHN0eWxlPSJtYXJnaW46IGF1dG87IGJhY2tncm91bmQ6IG5vbmU7IGRpc3BsYXk6IGJsb2NrOyBzaGFwZS1yZW5kZXJpbmc6IGF1dG87IiB2aWV3Qm94PSIwIDAgMTAwIDEwMCIgcHJlc2VydmVBc3BlY3RSYXRpbz0ieE1pZFlNaWQiPiAgPGNpcmNsZSBjeD0iNTAiIGN5PSI1MCIgZmlsbD0ibm9uZSIgc3Ryb2tlPSIjYzNjM2MzIiBzdHJva2Utd2lkdGg9IjEwIiByPSIzNSIgc3Ryb2tlLWRhc2hhcnJheT0iMTY0LjkzMzYxNDMxMzQ2NDE1IDU2Ljk3Nzg3MTQzNzgyMTM4Ij4gICAgPGFuaW1hdGVUcmFuc2Zvcm0gYXR0cmlidXRlTmFtZT0idHJhbnNmb3JtIiB0eXBlPSJyb3RhdGUiIHJlcGVhdENvdW50PSJpbmRlZmluaXRlIiBkdXI9IjFzIiB2YWx1ZXM9IjAgNTAgNTA7MzYwIDUwIDUwIiBrZXlUaW1lcz0iMDsxIj48L2FuaW1hdGVUcmFuc2Zvcm0+ICA8L2NpcmNsZT48L3N2Zz4=\\\");\\n  background-size: auto calc(min(50%, 400px));\\n}\",{\"type\":\"object\",\"name\":\"ImportedStyleSheet\",\"id\":\"p1102\",\"attributes\":{\"url\":\"https://cdn.holoviz.org/panel/1.3.8/dist/css/loading.css\"}},{\"type\":\"object\",\"name\":\"ImportedStyleSheet\",\"id\":\"p1182\",\"attributes\":{\"url\":\"https://cdn.holoviz.org/panel/1.3.8/dist/css/listpanel.css\"}},{\"type\":\"object\",\"name\":\"ImportedStyleSheet\",\"id\":\"p1100\",\"attributes\":{\"url\":\"https://cdn.holoviz.org/panel/1.3.8/dist/bundled/theme/default.css\"}},{\"type\":\"object\",\"name\":\"ImportedStyleSheet\",\"id\":\"p1101\",\"attributes\":{\"url\":\"https://cdn.holoviz.org/panel/1.3.8/dist/bundled/theme/native.css\"}}],\"margin\":0,\"sizing_mode\":\"stretch_width\",\"align\":\"start\",\"children\":[{\"type\":\"object\",\"name\":\"Spacer\",\"id\":\"p1103\",\"attributes\":{\"name\":\"HSpacer01789\",\"stylesheets\":[\"\\n:host(.pn-loading.pn-arc):before, .pn-loading.pn-arc:before {\\n  background-image: url(\\\"data:image/svg+xml;base64,PHN2ZyB4bWxucz0iaHR0cDovL3d3dy53My5vcmcvMjAwMC9zdmciIHN0eWxlPSJtYXJnaW46IGF1dG87IGJhY2tncm91bmQ6IG5vbmU7IGRpc3BsYXk6IGJsb2NrOyBzaGFwZS1yZW5kZXJpbmc6IGF1dG87IiB2aWV3Qm94PSIwIDAgMTAwIDEwMCIgcHJlc2VydmVBc3BlY3RSYXRpbz0ieE1pZFlNaWQiPiAgPGNpcmNsZSBjeD0iNTAiIGN5PSI1MCIgZmlsbD0ibm9uZSIgc3Ryb2tlPSIjYzNjM2MzIiBzdHJva2Utd2lkdGg9IjEwIiByPSIzNSIgc3Ryb2tlLWRhc2hhcnJheT0iMTY0LjkzMzYxNDMxMzQ2NDE1IDU2Ljk3Nzg3MTQzNzgyMTM4Ij4gICAgPGFuaW1hdGVUcmFuc2Zvcm0gYXR0cmlidXRlTmFtZT0idHJhbnNmb3JtIiB0eXBlPSJyb3RhdGUiIHJlcGVhdENvdW50PSJpbmRlZmluaXRlIiBkdXI9IjFzIiB2YWx1ZXM9IjAgNTAgNTA7MzYwIDUwIDUwIiBrZXlUaW1lcz0iMDsxIj48L2FuaW1hdGVUcmFuc2Zvcm0+ICA8L2NpcmNsZT48L3N2Zz4=\\\");\\n  background-size: auto calc(min(50%, 400px));\\n}\",{\"id\":\"p1102\"},{\"id\":\"p1100\"},{\"id\":\"p1101\"}],\"margin\":0,\"sizing_mode\":\"stretch_width\",\"align\":\"start\"}},{\"type\":\"object\",\"name\":\"Figure\",\"id\":\"p1131\",\"attributes\":{\"width\":null,\"height\":null,\"margin\":[5,10],\"sizing_mode\":\"fixed\",\"align\":\"start\",\"x_range\":{\"type\":\"object\",\"name\":\"Range1d\",\"id\":\"p1113\",\"attributes\":{\"tags\":[[[\"Longitude\",\"Longitude\",null]],[]],\"start\":-10602636.877504628,\"end\":-10599981.16396454,\"reset_start\":-10602636.877504628,\"reset_end\":-10599981.16396454,\"min_interval\":5}},\"y_range\":{\"type\":\"object\",\"name\":\"Range1d\",\"id\":\"p1114\",\"attributes\":{\"tags\":[[[\"Latitude\",\"Latitude\",null]],{\"type\":\"map\",\"entries\":[[\"invert_yaxis\",false],[\"autorange\",false]]}],\"start\":4711028.175468744,\"end\":4713683.889008831,\"reset_start\":4711028.175468744,\"reset_end\":4713683.889008831,\"min_interval\":5}},\"x_scale\":{\"type\":\"object\",\"name\":\"LinearScale\",\"id\":\"p1141\"},\"y_scale\":{\"type\":\"object\",\"name\":\"LinearScale\",\"id\":\"p1142\"},\"title\":{\"type\":\"object\",\"name\":\"Title\",\"id\":\"p1134\",\"attributes\":{\"text\":\"Haskell Indian Nations Universty, Lawrence, KS\",\"text_color\":\"black\",\"text_font_size\":\"12pt\"}},\"renderers\":[{\"type\":\"object\",\"name\":\"TileRenderer\",\"id\":\"p1164\",\"attributes\":{\"level\":\"underlay\",\"tile_source\":{\"type\":\"object\",\"name\":\"WMTSTileSource\",\"id\":\"p1160\",\"attributes\":{\"url\":\"https://server.arcgisonline.com/ArcGIS/rest/services/World_Imagery/MapServer/tile/{Z}/{Y}/{X}.jpg\",\"attribution\":\"&copy; <a href=\\\"http://downloads.esri.com/ArcGISOnline/docs/tou_summary.pdf\\\">Esri</a>, Earthstar Geographics\"}}}},{\"type\":\"object\",\"name\":\"GlyphRenderer\",\"id\":\"p1175\",\"attributes\":{\"data_source\":{\"type\":\"object\",\"name\":\"ColumnDataSource\",\"id\":\"p1166\",\"attributes\":{\"selected\":{\"type\":\"object\",\"name\":\"Selection\",\"id\":\"p1167\",\"attributes\":{\"indices\":[],\"line_indices\":[]}},\"selection_policy\":{\"type\":\"object\",\"name\":\"UnionRenderers\",\"id\":\"p1168\"},\"data\":{\"type\":\"map\",\"entries\":[[\"xs\",[[[{\"type\":\"ndarray\",\"array\":{\"type\":\"bytes\",\"data\":\"/ZXJ+bI4ZMHz+nECsThkwcAaaIKpOGTBhjVa5KY4ZMG8WTrdpjhkwY9Mv9WmOGTBHJnC0KY4ZMEOFyHMpjhkwWHG2semOGTBtXWUw6Y4ZMEYLoa9pjhkwWvdP7mmOGTBwIz5tKY4ZMF4bQ6xpjhkwcscyKymOGTBIMyBqKY4ZMF0ezukpjhkwbohvaGmOGTBHgxhO6U4ZMEEck0NpDhkwSrSkv6iOGTBxKToKaI4ZMHUHA5noThkwQYXnhehOGTBJKJ3GqE4ZMGoZlQvmjhkweZ4GQ+QOGTBaturVI44ZMGjA8OEdzhkwRH7T0h1OGTBfoPvzHM4ZMFS793LczhkwVJ2dMVzOGTBsy5mv3M4ZMF+s0oCZThkwdtB7LNkOGTB9sb6GmM4ZMFCpX9fTThkweKLE9RIOGTBfpbmOkg4ZME2cj3TRzhkwbMEIo5HOGTBnpCtfEc4ZMGzBCKORzhkwQStA7ZEOGTBh/KrKDw4ZMEGFM/uNDhkwVo2J1UzOGTBFf6FXjE4ZMH4bOG/Lzhkwcgm3EQuOGTB8XfnCiw4ZMEy71pcKzhkwQHfuKwnOGTB1sIDeiY4ZMGzA15nJThkwXGQm0ElOGTBcBcyOyU4ZMEsIYpHJDhkwY8R+XwkOGTBvxBHkSQ4ZMEIrln/JDhkwcgxKEolOGTBnmHo4SU4ZMEa6SXBsjhkwRtij8eyOGTByCs/0rI4ZMGgEJfXsjhkwQc0xeSyOGTB/ZXJ+bI4ZME=\"},\"shape\":[70],\"dtype\":\"float64\",\"order\":\"little\"}]]]],[\"ys\",[[[{\"type\":\"ndarray\",\"array\":{\"type\":\"bytes\",\"data\":\"07Dz//35UUH0iQv0/flRQTSDq8H9+VFBmIVEsP35UUEuS31LCfpRQfzp6pIV+lFBsK9Hbh36UUGmh5BKJfpRQfKl+Sos+lFB7fxjCzP6UUGxyQVcPfpRQZyziDtE+lFB3FD3G0v6UUHUJmf8UfpRQX812NxY+lFB4HxKvV/6UUH2/L2dZvpRQUjJvm1x+lFBliHEk3L6UUHMnhTtc/pRQWHXtlh1+lFB/UYNa3f6UUGTQMzKevpRQZO00KR9+lFBjXn0ZqH6UUGf5F1tofpRQb7Ghnah+lFBTko5TqH6UUEdrcC6oPpRQVIHRp+g+lFB3aOkb6D6UUH+sbgHo/pRQeeIBGmx+lFBranUz7/6UUF3qD1pv/pRQeREQK79+lFBuknBqP36UUHK8Ohf/PpRQcTrZ2X8+lFBwKq0IPz6UUEHnzaj+/pRQbECTrL6+lFBt/mns/n6UUG3XBvv9fpRQYZwydz1+lFBbkFtN/T6UUHtTUPc8vpRQc4svYry+lFBIPveR/L6UUGoEI018vpRQagQjTXy+lFBAc5XbvL6UUF0p1GP8vpRQZnZBUHz+lFBSpR6ffP6UUEIu/SX7/pRQbfOxtlr+lFBL/N9hzD6UUG/n9RiGvpRQS2Djc/d+VFBlALt0sb5UUGTnvmQSvlRQTVlScL1+FFBjqTgVdT4UUHv6srZ4fhRQfCvnREC+VFBSMq+YTj5UUEXVqwqU/lRQQ8wJS6V+VFB07Dz//35UUE=\"},\"shape\":[70],\"dtype\":\"float64\",\"order\":\"little\"}]]]]]}}},\"view\":{\"type\":\"object\",\"name\":\"CDSView\",\"id\":\"p1176\",\"attributes\":{\"filter\":{\"type\":\"object\",\"name\":\"AllIndices\",\"id\":\"p1177\"}}},\"glyph\":{\"type\":\"object\",\"name\":\"MultiPolygons\",\"id\":\"p1172\",\"attributes\":{\"xs\":{\"type\":\"field\",\"field\":\"xs\"},\"ys\":{\"type\":\"field\",\"field\":\"ys\"},\"line_color\":{\"type\":\"value\",\"value\":\"skyblue\"},\"line_width\":{\"type\":\"value\",\"value\":5},\"fill_color\":{\"type\":\"value\",\"value\":\"white\"},\"fill_alpha\":{\"type\":\"value\",\"value\":0.2},\"hatch_color\":{\"type\":\"value\",\"value\":\"#30a2da\"}}},\"selection_glyph\":{\"type\":\"object\",\"name\":\"MultiPolygons\",\"id\":\"p1178\",\"attributes\":{\"xs\":{\"type\":\"field\",\"field\":\"xs\"},\"ys\":{\"type\":\"field\",\"field\":\"ys\"},\"line_color\":{\"type\":\"value\",\"value\":\"skyblue\"},\"line_alpha\":{\"type\":\"value\",\"value\":1.0},\"line_width\":{\"type\":\"value\",\"value\":5},\"line_join\":{\"type\":\"value\",\"value\":\"bevel\"},\"line_cap\":{\"type\":\"value\",\"value\":\"butt\"},\"line_dash\":{\"type\":\"value\",\"value\":[]},\"line_dash_offset\":{\"type\":\"value\",\"value\":0},\"fill_color\":{\"type\":\"value\",\"value\":\"white\"},\"fill_alpha\":{\"type\":\"value\",\"value\":0.2},\"hatch_color\":{\"type\":\"value\",\"value\":\"#30a2da\"},\"hatch_alpha\":{\"type\":\"value\",\"value\":1.0},\"hatch_scale\":{\"type\":\"value\",\"value\":12.0},\"hatch_pattern\":{\"type\":\"value\",\"value\":null},\"hatch_weight\":{\"type\":\"value\",\"value\":1.0}}},\"nonselection_glyph\":{\"type\":\"object\",\"name\":\"MultiPolygons\",\"id\":\"p1173\",\"attributes\":{\"xs\":{\"type\":\"field\",\"field\":\"xs\"},\"ys\":{\"type\":\"field\",\"field\":\"ys\"},\"line_color\":{\"type\":\"value\",\"value\":\"skyblue\"},\"line_alpha\":{\"type\":\"value\",\"value\":0.1},\"line_width\":{\"type\":\"value\",\"value\":5},\"fill_color\":{\"type\":\"value\",\"value\":\"white\"},\"fill_alpha\":{\"type\":\"value\",\"value\":0.2},\"hatch_color\":{\"type\":\"value\",\"value\":\"#30a2da\"},\"hatch_alpha\":{\"type\":\"value\",\"value\":0.1}}},\"muted_glyph\":{\"type\":\"object\",\"name\":\"MultiPolygons\",\"id\":\"p1174\",\"attributes\":{\"xs\":{\"type\":\"field\",\"field\":\"xs\"},\"ys\":{\"type\":\"field\",\"field\":\"ys\"},\"line_color\":{\"type\":\"value\",\"value\":\"skyblue\"},\"line_alpha\":{\"type\":\"value\",\"value\":0.2},\"line_width\":{\"type\":\"value\",\"value\":5},\"fill_color\":{\"type\":\"value\",\"value\":\"white\"},\"fill_alpha\":{\"type\":\"value\",\"value\":0.2},\"hatch_color\":{\"type\":\"value\",\"value\":\"#30a2da\"},\"hatch_alpha\":{\"type\":\"value\",\"value\":0.2}}}}}],\"toolbar\":{\"type\":\"object\",\"name\":\"Toolbar\",\"id\":\"p1140\",\"attributes\":{\"tools\":[{\"type\":\"object\",\"name\":\"WheelZoomTool\",\"id\":\"p1117\",\"attributes\":{\"renderers\":\"auto\",\"zoom_on_axis\":false}},{\"type\":\"object\",\"name\":\"BoxZoomTool\",\"id\":\"p1118\",\"attributes\":{\"overlay\":{\"type\":\"object\",\"name\":\"BoxAnnotation\",\"id\":\"p1006\",\"attributes\":{\"syncable\":false,\"level\":\"overlay\",\"visible\":false,\"left\":{\"type\":\"number\",\"value\":\"nan\"},\"right\":{\"type\":\"number\",\"value\":\"nan\"},\"top\":{\"type\":\"number\",\"value\":\"nan\"},\"bottom\":{\"type\":\"number\",\"value\":\"nan\"},\"left_units\":\"canvas\",\"right_units\":\"canvas\",\"top_units\":\"canvas\",\"bottom_units\":\"canvas\",\"line_color\":\"black\",\"line_alpha\":1.0,\"line_width\":2,\"line_dash\":[4,4],\"fill_color\":\"lightgrey\",\"fill_alpha\":0.5}},\"match_aspect\":true}},{\"type\":\"object\",\"name\":\"PanTool\",\"id\":\"p1154\"},{\"type\":\"object\",\"name\":\"ResetTool\",\"id\":\"p1155\"}],\"active_drag\":{\"id\":\"p1154\"}}},\"left\":[{\"type\":\"object\",\"name\":\"LinearAxis\",\"id\":\"p1148\",\"attributes\":{\"ticker\":{\"type\":\"object\",\"name\":\"MercatorTicker\",\"id\":\"p1158\",\"attributes\":{\"mantissas\":[1,2,5],\"dimension\":\"lat\"}},\"formatter\":{\"type\":\"object\",\"name\":\"MercatorTickFormatter\",\"id\":\"p1159\",\"attributes\":{\"dimension\":\"lat\"}},\"axis_label\":\"Latitude\",\"major_label_policy\":{\"type\":\"object\",\"name\":\"AllLabels\",\"id\":\"p1151\"}}}],\"below\":[{\"type\":\"object\",\"name\":\"LinearAxis\",\"id\":\"p1143\",\"attributes\":{\"ticker\":{\"type\":\"object\",\"name\":\"MercatorTicker\",\"id\":\"p1156\",\"attributes\":{\"mantissas\":[1,2,5],\"dimension\":\"lon\"}},\"formatter\":{\"type\":\"object\",\"name\":\"MercatorTickFormatter\",\"id\":\"p1157\",\"attributes\":{\"dimension\":\"lon\"}},\"axis_label\":\"Longitude\",\"major_label_policy\":{\"type\":\"object\",\"name\":\"AllLabels\",\"id\":\"p1146\"}}}],\"center\":[{\"type\":\"object\",\"name\":\"Grid\",\"id\":\"p1147\",\"attributes\":{\"axis\":{\"id\":\"p1143\"},\"grid_line_color\":null}},{\"type\":\"object\",\"name\":\"Grid\",\"id\":\"p1152\",\"attributes\":{\"dimension\":1,\"axis\":{\"id\":\"p1148\"},\"grid_line_color\":null}}],\"frame_width\":400,\"frame_height\":400,\"min_border_top\":10,\"min_border_bottom\":10,\"min_border_left\":10,\"min_border_right\":10,\"output_backend\":\"webgl\",\"match_aspect\":true}},{\"type\":\"object\",\"name\":\"Spacer\",\"id\":\"p1180\",\"attributes\":{\"name\":\"HSpacer01790\",\"stylesheets\":[\"\\n:host(.pn-loading.pn-arc):before, .pn-loading.pn-arc:before {\\n  background-image: url(\\\"data:image/svg+xml;base64,PHN2ZyB4bWxucz0iaHR0cDovL3d3dy53My5vcmcvMjAwMC9zdmciIHN0eWxlPSJtYXJnaW46IGF1dG87IGJhY2tncm91bmQ6IG5vbmU7IGRpc3BsYXk6IGJsb2NrOyBzaGFwZS1yZW5kZXJpbmc6IGF1dG87IiB2aWV3Qm94PSIwIDAgMTAwIDEwMCIgcHJlc2VydmVBc3BlY3RSYXRpbz0ieE1pZFlNaWQiPiAgPGNpcmNsZSBjeD0iNTAiIGN5PSI1MCIgZmlsbD0ibm9uZSIgc3Ryb2tlPSIjYzNjM2MzIiBzdHJva2Utd2lkdGg9IjEwIiByPSIzNSIgc3Ryb2tlLWRhc2hhcnJheT0iMTY0LjkzMzYxNDMxMzQ2NDE1IDU2Ljk3Nzg3MTQzNzgyMTM4Ij4gICAgPGFuaW1hdGVUcmFuc2Zvcm0gYXR0cmlidXRlTmFtZT0idHJhbnNmb3JtIiB0eXBlPSJyb3RhdGUiIHJlcGVhdENvdW50PSJpbmRlZmluaXRlIiBkdXI9IjFzIiB2YWx1ZXM9IjAgNTAgNTA7MzYwIDUwIDUwIiBrZXlUaW1lcz0iMDsxIj48L2FuaW1hdGVUcmFuc2Zvcm0+ICA8L2NpcmNsZT48L3N2Zz4=\\\");\\n  background-size: auto calc(min(50%, 400px));\\n}\",{\"id\":\"p1102\"},{\"id\":\"p1100\"},{\"id\":\"p1101\"}],\"margin\":0,\"sizing_mode\":\"stretch_width\",\"align\":\"start\"}}]}}],\"defs\":[{\"type\":\"model\",\"name\":\"ReactiveHTML1\"},{\"type\":\"model\",\"name\":\"FlexBox1\",\"properties\":[{\"name\":\"align_content\",\"kind\":\"Any\",\"default\":\"flex-start\"},{\"name\":\"align_items\",\"kind\":\"Any\",\"default\":\"flex-start\"},{\"name\":\"flex_direction\",\"kind\":\"Any\",\"default\":\"row\"},{\"name\":\"flex_wrap\",\"kind\":\"Any\",\"default\":\"wrap\"},{\"name\":\"justify_content\",\"kind\":\"Any\",\"default\":\"flex-start\"}]},{\"type\":\"model\",\"name\":\"FloatPanel1\",\"properties\":[{\"name\":\"config\",\"kind\":\"Any\",\"default\":{\"type\":\"map\"}},{\"name\":\"contained\",\"kind\":\"Any\",\"default\":true},{\"name\":\"position\",\"kind\":\"Any\",\"default\":\"right-top\"},{\"name\":\"offsetx\",\"kind\":\"Any\",\"default\":null},{\"name\":\"offsety\",\"kind\":\"Any\",\"default\":null},{\"name\":\"theme\",\"kind\":\"Any\",\"default\":\"primary\"},{\"name\":\"status\",\"kind\":\"Any\",\"default\":\"normalized\"}]},{\"type\":\"model\",\"name\":\"GridStack1\",\"properties\":[{\"name\":\"mode\",\"kind\":\"Any\",\"default\":\"warn\"},{\"name\":\"ncols\",\"kind\":\"Any\",\"default\":null},{\"name\":\"nrows\",\"kind\":\"Any\",\"default\":null},{\"name\":\"allow_resize\",\"kind\":\"Any\",\"default\":true},{\"name\":\"allow_drag\",\"kind\":\"Any\",\"default\":true},{\"name\":\"state\",\"kind\":\"Any\",\"default\":[]}]},{\"type\":\"model\",\"name\":\"drag1\",\"properties\":[{\"name\":\"slider_width\",\"kind\":\"Any\",\"default\":5},{\"name\":\"slider_color\",\"kind\":\"Any\",\"default\":\"black\"},{\"name\":\"value\",\"kind\":\"Any\",\"default\":50}]},{\"type\":\"model\",\"name\":\"click1\",\"properties\":[{\"name\":\"terminal_output\",\"kind\":\"Any\",\"default\":\"\"},{\"name\":\"debug_name\",\"kind\":\"Any\",\"default\":\"\"},{\"name\":\"clears\",\"kind\":\"Any\",\"default\":0}]},{\"type\":\"model\",\"name\":\"copy_to_clipboard1\",\"properties\":[{\"name\":\"fill\",\"kind\":\"Any\",\"default\":\"none\"},{\"name\":\"value\",\"kind\":\"Any\",\"default\":null}]},{\"type\":\"model\",\"name\":\"FastWrapper1\",\"properties\":[{\"name\":\"object\",\"kind\":\"Any\",\"default\":null},{\"name\":\"style\",\"kind\":\"Any\",\"default\":null}]},{\"type\":\"model\",\"name\":\"NotificationAreaBase1\",\"properties\":[{\"name\":\"js_events\",\"kind\":\"Any\",\"default\":{\"type\":\"map\"}},{\"name\":\"position\",\"kind\":\"Any\",\"default\":\"bottom-right\"},{\"name\":\"_clear\",\"kind\":\"Any\",\"default\":0}]},{\"type\":\"model\",\"name\":\"NotificationArea1\",\"properties\":[{\"name\":\"js_events\",\"kind\":\"Any\",\"default\":{\"type\":\"map\"}},{\"name\":\"notifications\",\"kind\":\"Any\",\"default\":[]},{\"name\":\"position\",\"kind\":\"Any\",\"default\":\"bottom-right\"},{\"name\":\"_clear\",\"kind\":\"Any\",\"default\":0},{\"name\":\"types\",\"kind\":\"Any\",\"default\":[{\"type\":\"map\",\"entries\":[[\"type\",\"warning\"],[\"background\",\"#ffc107\"],[\"icon\",{\"type\":\"map\",\"entries\":[[\"className\",\"fas fa-exclamation-triangle\"],[\"tagName\",\"i\"],[\"color\",\"white\"]]}]]},{\"type\":\"map\",\"entries\":[[\"type\",\"info\"],[\"background\",\"#007bff\"],[\"icon\",{\"type\":\"map\",\"entries\":[[\"className\",\"fas fa-info-circle\"],[\"tagName\",\"i\"],[\"color\",\"white\"]]}]]}]}]},{\"type\":\"model\",\"name\":\"Notification\",\"properties\":[{\"name\":\"background\",\"kind\":\"Any\",\"default\":null},{\"name\":\"duration\",\"kind\":\"Any\",\"default\":3000},{\"name\":\"icon\",\"kind\":\"Any\",\"default\":null},{\"name\":\"message\",\"kind\":\"Any\",\"default\":\"\"},{\"name\":\"notification_type\",\"kind\":\"Any\",\"default\":null},{\"name\":\"_destroyed\",\"kind\":\"Any\",\"default\":false}]},{\"type\":\"model\",\"name\":\"TemplateActions1\",\"properties\":[{\"name\":\"open_modal\",\"kind\":\"Any\",\"default\":0},{\"name\":\"close_modal\",\"kind\":\"Any\",\"default\":0}]},{\"type\":\"model\",\"name\":\"BootstrapTemplateActions1\",\"properties\":[{\"name\":\"open_modal\",\"kind\":\"Any\",\"default\":0},{\"name\":\"close_modal\",\"kind\":\"Any\",\"default\":0}]},{\"type\":\"model\",\"name\":\"MaterialTemplateActions1\",\"properties\":[{\"name\":\"open_modal\",\"kind\":\"Any\",\"default\":0},{\"name\":\"close_modal\",\"kind\":\"Any\",\"default\":0}]}]}};\n",
              "  var render_items = [{\"docid\":\"4b563d1e-5992-4e1b-9f08-a0aeaa51a02e\",\"roots\":{\"p1099\":\"ff4815a0-977c-4db5-997d-46f3e734c9b9\"},\"root_ids\":[\"p1099\"]}];\n",
              "  var docs = Object.values(docs_json)\n",
              "  if (!docs) {\n",
              "    return\n",
              "  }\n",
              "  const py_version = docs[0].version.replace('rc', '-rc.').replace('.dev', '-dev.')\n",
              "  function embed_document(root) {\n",
              "    var Bokeh = get_bokeh(root)\n",
              "    Bokeh.embed.embed_items_notebook(docs_json, render_items);\n",
              "    for (const render_item of render_items) {\n",
              "      for (const root_id of render_item.root_ids) {\n",
              "\tconst id_el = document.getElementById(root_id)\n",
              "\tif (id_el.children.length && (id_el.children[0].className === 'bk-root')) {\n",
              "\t  const root_el = id_el.children[0]\n",
              "\t  root_el.id = root_el.id + '-rendered'\n",
              "\t}\n",
              "      }\n",
              "    }\n",
              "  }\n",
              "  function get_bokeh(root) {\n",
              "    if (root.Bokeh === undefined) {\n",
              "      return null\n",
              "    } else if (root.Bokeh.version !== py_version) {\n",
              "      if (root.Bokeh.versions === undefined || !root.Bokeh.versions.has(py_version)) {\n",
              "\treturn null\n",
              "      }\n",
              "      return root.Bokeh.versions.get(py_version);\n",
              "    } else if (root.Bokeh.version === py_version) {\n",
              "      return root.Bokeh\n",
              "    }\n",
              "    return null\n",
              "  }\n",
              "  function is_loaded(root) {\n",
              "    var Bokeh = get_bokeh(root)\n",
              "    return (Bokeh != null && Bokeh.Panel !== undefined)\n",
              "  }\n",
              "  if (is_loaded(root)) {\n",
              "    embed_document(root);\n",
              "  } else {\n",
              "    var attempts = 0;\n",
              "    var timer = setInterval(function(root) {\n",
              "      if (is_loaded(root)) {\n",
              "        clearInterval(timer);\n",
              "        embed_document(root);\n",
              "      } else if (document.readyState == \"complete\") {\n",
              "        attempts++;\n",
              "        if (attempts > 200) {\n",
              "          clearInterval(timer);\n",
              "\t  var Bokeh = get_bokeh(root)\n",
              "\t  if (Bokeh == null || Bokeh.Panel == null) {\n",
              "            console.warn(\"Panel: ERROR: Unable to run Panel code because Bokeh or Panel library is missing\");\n",
              "\t  } else {\n",
              "\t    console.warn(\"Panel: WARNING: Attempting to render but not all required libraries could be resolved.\")\n",
              "\t    embed_document(root)\n",
              "\t  }\n",
              "        }\n",
              "      }\n",
              "    }, 25, root)\n",
              "  }\n",
              "})(window);</script>"
            ],
            "text/plain": [
              ":Overlay\n",
              "   .WMTS.I     :WMTS   [Longitude,Latitude]\n",
              "   .Polygons.I :Polygons   [Longitude,Latitude]"
            ]
          },
          "execution_count": 5,
          "metadata": {
            "application/vnd.holoviews_exec.v0+json": {
              "id": "p1099"
            }
          },
          "output_type": "execute_result"
        }
      ],
      "source": [
        "# Plot haskell boundary\n",
        "haskell_map = haskell_gdf.reset_index().hvplot(\n",
        "    # Givethe map a descriptive title\n",
        "    title=\"Haskell Indian Nations Universty, Lawrence, KS\",\n",
        "    # Add a basemap\n",
        "    geo=True, tiles='EsriImagery',\n",
        "    # Change the colors\n",
        "    fill_color='white', fill_alpha=0.2,\n",
        "    line_color='skyblue', line_width=5,\n",
        "    # Change the image size\n",
        "    frame_width=400, frame_height=400)\n",
        "\n",
        "# Save the map as a file to put on the web\n",
        "hv.save(haskell_map, 'haskell.html')\n",
        "\n",
        "# Display the map\n",
        "haskell_map"
      ]
    }
  ],
  "metadata": {
    "kernelspec": {
      "display_name": "base",
      "language": "python",
      "name": "python3"
    },
    "language_info": {
      "codemirror_mode": {
        "name": "ipython",
        "version": 3
      },
      "file_extension": ".py",
      "mimetype": "text/x-python",
      "name": "python",
      "nbconvert_exporter": "python",
      "pygments_lexer": "ipython3",
      "version": "3.11.6"
    }
  },
  "nbformat": 4,
  "nbformat_minor": 5
}
